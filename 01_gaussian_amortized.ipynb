{
 "cells": [
  {
   "cell_type": "markdown",
   "metadata": {},
   "source": [
    "# Amortized posterior inference on Gaussian example"
   ]
  },
  {
   "cell_type": "markdown",
   "metadata": {},
   "source": [
    "Note, you can find the original version of this notebook at [https://github.com/sbi-dev/sbi/blob/main/tutorials/01_gaussian_amortized.ipynb](https://github.com/sbi-dev/sbi/blob/main/tutorials/01_gaussian_amortized.ipynb) in the `sbi` repository."
   ]
  },
  {
   "cell_type": "markdown",
   "metadata": {},
   "source": [
    "In this tutorial, we introduce **amortization** that is the capability to evaluate the posterior for different observations without having to re-run inference.\n",
    "\n",
    "We will demonstrate how `sbi` can infer an amortized posterior for the illustrative linear Gaussian example introduced in [Getting Started](https://sbi-dev.github.io/sbi/tutorial/00_getting_started_flexible/), that takes in 3 parameters ($\\theta$). "
   ]
  },
  {
   "cell_type": "code",
   "execution_count": 1,
   "metadata": {},
   "outputs": [],
   "source": [
    "import torch\n",
    "\n",
    "from sbi import analysis as analysis\n",
    "from sbi import utils as utils\n",
    "from sbi.inference import SNPE, simulate_for_sbi\n",
    "from sbi.utils.user_input_checks import (\n",
    "    check_sbi_inputs,\n",
    "    process_prior,\n",
    "    process_simulator,\n",
    ")"
   ]
  },
  {
   "cell_type": "markdown",
   "metadata": {},
   "source": [
    "## Defining simulator, prior, and running inference\n",
    "\n",
    "Our  _simulator_ (model) takes in 3 parameters ($\\theta$) and outputs simulations of the same dimensionality. It adds 1.0 and some Gaussian noise to the parameter set. For each dimension of $\\theta$, we consider a uniform _prior_ between [-2,2]."
   ]
  },
  {
   "cell_type": "code",
   "execution_count": 2,
   "metadata": {},
   "outputs": [],
   "source": [
    "num_dim = 3\n",
    "prior = utils.BoxUniform(low=-2 * torch.ones(num_dim), high=2 * torch.ones(num_dim))\n",
    "\n",
    "def simulator(theta):\n",
    "    # linear gaussian\n",
    "    return theta + 1.0 + torch.randn_like(theta) * 0.1\n",
    "\n",
    "# Check prior, simulator, consistency\n",
    "prior, num_parameters, prior_returns_numpy = process_prior(prior)\n",
    "simulator = process_simulator(simulator, prior, prior_returns_numpy)\n",
    "check_sbi_inputs(simulator, prior)"
   ]
  },
  {
   "cell_type": "code",
   "execution_count": null,
   "metadata": {},
   "outputs": [],
   "source": [
    "class GaussianInverseGamma():\n",
    "    def __init__(self, params_alpha, params_logitrho, params_logkappa, params_logprecy):\n",
    "        \n",
    "        self.alpha = D.Normal(params_alpha['mean'], params_alpha['sigma'])\n",
    "        \n",
    "        self.logitrho = D.Normal(params_logitrho['mean'], params_logitrho['sigma'])\n",
    "\n",
    "        self.kappa = D.Gamma(params_logkappa['alpha'], params_logkappa['beta'])\n",
    "\n",
    "        self.precy = D.Gamma(params_logprecy['alpha'], params_logprecy['beta'])\n",
    "        \n",
    "        \n",
    "    def sample(self, shape: torch.Size = ()):\n",
    "        # fully tranformed scale\n",
    "        theta_transformed = torch.stack([self.alpha.sample(shape),\n",
    "                            self.logitrho.sample(shape),\n",
    "                            self.kappa.sample(shape).log(),\n",
    "                            self.precy.sample(shape).log()\n",
    "                            ], dim=-1)  \n",
    "        \n",
    "        # natural scale (alpha, rho, sigma2_x, sigma2_y)\n",
    "        theta = theta_transformed.clone()\n",
    "        theta[...,1] = (theta[...,1].exp() - 1) / (theta[...,1].exp() + 1)\n",
    "        theta[...,2] = (1 - theta[...,1]**2) / theta[...,2].exp()\n",
    "        theta[...,3] = (theta[...,3].exp())**(-1)\n",
    "\n",
    "        return theta, theta_transformed"
   ]
  },
  {
   "cell_type": "code",
   "execution_count": null,
   "metadata": {},
   "outputs": [],
   "source": [
    "def AR1(theta: torch.Tensor, T=100, burn_in=100) -> torch.Tensor:\n",
    "    '''\n",
    "    Simulates from an AR(1) process. \n",
    "\n",
    "    Input: theta = [alpha, rho, sigma2_x, sigma2_y]\n",
    "    '''\n",
    "    x = torch.zeros((theta.size(0), T + burn_in))\n",
    "    # simulate x0\n",
    "    x[...,0] = D.Normal(loc=0., scale=(theta[...,2] / (1 - theta[...,1]**2))**(-0.5)).sample()\n",
    "    \n",
    "    for t in range(1,T + burn_in):\n",
    "        x[...,t] =  D.Normal(theta[...,1] * x[...,t-1], torch.sqrt(theta[...,2])).sample() \n",
    "    \n",
    "    # simulate observations\n",
    "    y = D.Normal(theta[...,0] + x.T, torch.sqrt(theta[...,3])).sample()\n",
    "\n",
    "    return y[burn_in:,].T"
   ]
  },
  {
   "cell_type": "code",
   "execution_count": 3,
   "metadata": {},
   "outputs": [
    {
     "data": {
      "application/vnd.jupyter.widget-view+json": {
       "model_id": "8d56823280894d05a7050a723910c6d7",
       "version_major": 2,
       "version_minor": 0
      },
      "text/plain": [
       "Running 2000 simulations.:   0%|          | 0/2000 [00:00<?, ?it/s]"
      ]
     },
     "metadata": {},
     "output_type": "display_data"
    },
    {
     "name": "stdout",
     "output_type": "stream",
     "text": [
      " Neural network successfully converged after 79 epochs."
     ]
    }
   ],
   "source": [
    "# Create inference object. Here, NPE is used.\n",
    "inference = SNPE(prior=prior)\n",
    "\n",
    "# generate simulations and pass to the inference object\n",
    "theta, x = simulate_for_sbi(simulator, proposal=prior, num_simulations=2000)\n",
    "inference = inference.append_simulations(theta, x)\n",
    "\n",
    "# train the density estimator and build the posterior\n",
    "density_estimator = inference.train()\n",
    "posterior = inference.build_posterior(density_estimator)"
   ]
  },
  {
   "cell_type": "markdown",
   "metadata": {},
   "source": [
    "## Amortized inference\n",
    "Note that we have not yet provided an observation to the inference procedure. In fact, we can evaluate the posterior for different observations without having to re-run inference. This is called **amortization**. An amortized posterior is one that is not focused on any particular observation. Naturally, if the diversity of observations is large, any of the inference methods will need to run a sufficient number of simulations for the resulting posterior to perform well across these diverse observations."
   ]
  },
  {
   "cell_type": "markdown",
   "metadata": {},
   "source": [
    "Let's say we have not just one but two observations $x_{obs~1}$ and $x_{obs~2}$ for which we aim to do parameter inference. \n",
    "\n",
    "> Note: For real observations, of course, you would not have access to the ground truth $\\theta$."
   ]
  },
  {
   "cell_type": "code",
   "execution_count": 4,
   "metadata": {},
   "outputs": [],
   "source": [
    "# generate the first observation\n",
    "theta_1 = prior.sample((1,))\n",
    "x_obs_1 = simulator(theta_1)\n",
    "# now generate a second observation\n",
    "theta_2 = prior.sample((1,))\n",
    "x_obs_2 = simulator(theta_2)"
   ]
  },
  {
   "cell_type": "markdown",
   "metadata": {},
   "source": [
    "We can draw samples from the posterior given $x_{obs~1}$ and then plot them:"
   ]
  },
  {
   "cell_type": "code",
   "execution_count": 5,
   "metadata": {},
   "outputs": [
    {
     "data": {
      "application/vnd.jupyter.widget-view+json": {
       "model_id": "4ab3fe9ab9e641519f0658ad0a87ffc9",
       "version_major": 2,
       "version_minor": 0
      },
      "text/plain": [
       "Drawing 10000 posterior samples:   0%|          | 0/10000 [00:00<?, ?it/s]"
      ]
     },
     "metadata": {},
     "output_type": "display_data"
    },
    {
     "data": {
      "image/png": "[encoded data removed]",
      "text/plain": [
       "<Figure size 500x500 with 9 Axes>"
      ]
     },
     "metadata": {},
     "output_type": "display_data"
    }
   ],
   "source": [
    "posterior_samples_1 = posterior.sample((10000,), x=x_obs_1)\n",
    "\n",
    "# plot posterior samples\n",
    "_ = analysis.pairplot(\n",
    "    posterior_samples_1, limits=[[-2, 2], [-2, 2], [-2, 2]], figsize=(5, 5),\n",
    "    labels=[r\"$\\theta_1$\", r\"$\\theta_2$\", r\"$\\theta_3$\"],\n",
    "    points=theta_1 # add ground truth thetas\n",
    ")"
   ]
  },
  {
   "cell_type": "markdown",
   "metadata": {},
   "source": [
    "The inferred distirbutions over the parameters given the **first** observation $x_{obs~1}$ match the parameters $\\theta_{1}$ (shown in orange), we used to generate our first observation $x_{obs~1}$."
   ]
  },
  {
   "cell_type": "markdown",
   "metadata": {},
   "source": [
    "Since the learned posterior is **amortized**, we can also draw samples from the posterior given the second observation $x_{obs~2}$ without having to re-run inference:"
   ]
  },
  {
   "cell_type": "code",
   "execution_count": 8,
   "metadata": {},
   "outputs": [
    {
     "data": {
      "application/vnd.jupyter.widget-view+json": {
       "model_id": "875ef9a4bf9e49a3806324b01f62f69c",
       "version_major": 2,
       "version_minor": 0
      },
      "text/plain": [
       "Drawing 10000 posterior samples:   0%|          | 0/10000 [00:00<?, ?it/s]"
      ]
     },
     "metadata": {},
     "output_type": "display_data"
    },
    {
     "data": {
      "image/png": "[encoded data removed]",
      "text/plain": [
       "<Figure size 500x500 with 9 Axes>"
      ]
     },
     "metadata": {},
     "output_type": "display_data"
    }
   ],
   "source": [
    "posterior_samples_2 = posterior.sample((10000,), x=x_obs_2)\n",
    "\n",
    "# plot posterior samples\n",
    "_ = analysis.pairplot(\n",
    "    posterior_samples_2, limits=[[-3, 2], [-2, 2], [-2, 2]], figsize=(5, 5),\n",
    "    labels=[r\"$\\theta_1$\", r\"$\\theta_2$\", r\"$\\theta_3$\"],\n",
    "    points=theta_2 # add ground truth thetas\n",
    ")"
   ]
  },
  {
   "cell_type": "markdown",
   "metadata": {},
   "source": [
    "The inferred distirbutions over the parameters given the **second** observation  $x_{obs~2}$ also match the ground truth parameters $\\theta_{2}$ we used to generate our second test observation  $x_{obs~2}$.\n",
    "\n",
    "This in a nutshell demonstrates the benefit of amortized methods. "
   ]
  },
  {
   "cell_type": "markdown",
   "metadata": {},
   "source": [
    "# Next steps\n",
    "\n",
    "Now that you got familiar with amortization and are probably good to go and have a first shot at applying `sbi` to your own inference problem. If you want to learn more, we recommend checking out our tutorial on\n",
    "[multiround inference ](https://sbi-dev.github.io/sbi/tutorial/03_multiround_inference/) which aims to make inference for a single observation more sampling efficient."
   ]
  }
 ],
 "metadata": {
  "kernelspec": {
   "display_name": "Python 3 (ipykernel)",
   "language": "python",
   "name": "python3"
  },
  "language_info": {
   "codemirror_mode": {
    "name": "ipython",
    "version": 3
   },
   "file_extension": ".py",
   "mimetype": "text/x-python",
   "name": "python",
   "nbconvert_exporter": "python",
   "pygments_lexer": "ipython3",
   "version": "3.12.3"
  }
 },
 "nbformat": 4,
 "nbformat_minor": 4
}
